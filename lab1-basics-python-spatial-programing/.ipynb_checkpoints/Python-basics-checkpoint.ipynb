{
 "cells": [
  {
   "cell_type": "markdown",
   "id": "620a5a6e-5e9e-4701-8186-380c35ba890e",
   "metadata": {},
   "source": [
    "### Basics of Python programming\n",
    "We will learn about the basics of Python programming in this lab. I highly recommend spending more time after class to learn more about Python basics. Here are several most important concepts in Python. \n",
    "\n",
    "1. Data types\n",
    "2. Data structure\n",
    "3. Loops\n",
    "4. Python modules\n",
    "5. Files and folders operations\n",
    "\n",
    "Reference:\n",
    "https://www.w3schools.com/python/python_datatypes.asp\n"
   ]
  },
  {
   "cell_type": "code",
   "execution_count": null,
   "id": "0774c282-7590-403f-af6e-dc5939a3466b",
   "metadata": {},
   "outputs": [],
   "source": []
  },
  {
   "cell_type": "code",
   "execution_count": 4,
   "id": "85193002-91e7-4c63-862f-576cf8b720c0",
   "metadata": {},
   "outputs": [
    {
     "name": "stdout",
     "output_type": "stream",
     "text": [
      "Hello, World!\n"
     ]
    }
   ],
   "source": [
    "print(\"Hello, World!\")"
   ]
  },
  {
   "cell_type": "code",
   "execution_count": null,
   "id": "a6c1edd1-1e4a-4ee6-b5cd-3cd2f92a41a6",
   "metadata": {},
   "outputs": [],
   "source": []
  },
  {
   "cell_type": "markdown",
   "id": "210d43b4-b3a9-4505-ba21-4787875a741e",
   "metadata": {},
   "source": [
    "#### Be familar with Data Types"
   ]
  },
  {
   "cell_type": "markdown",
   "id": "d4c9c701-bb48-4390-8652-cbcd801e56f2",
   "metadata": {},
   "source": [
    "In programming, data type is an important concept.\n",
    "\n",
    "Variables can store data of different types, and different types can do different things.\n",
    "\n",
    "Python has the following data types built-in by default, in these categories:\n",
    "\n",
    "- Text Type:\tstr\n",
    "- Numeric Types:\tint, float, complex\n",
    "- Sequence Types:\tlist, tuple, range\n",
    "- Mapping Type:\tdict\n",
    "- Set Types:\tset, frozenset\n",
    "- Boolean Type:\tbool\n",
    "- Binary Types:\tbytes, bytearray, memoryview\n",
    "- None Type:\tNoneType"
   ]
  },
  {
   "cell_type": "code",
   "execution_count": 1,
   "id": "34651957-677a-4e23-b45c-02158ab4e5a5",
   "metadata": {
    "scrolled": true
   },
   "outputs": [
    {
     "name": "stdout",
     "output_type": "stream",
     "text": [
      "<class 'int'>\n"
     ]
    }
   ],
   "source": [
    "x = 5\n",
    "print(type(x))"
   ]
  },
  {
   "cell_type": "code",
   "execution_count": null,
   "id": "5898af34-7b53-4556-b68c-b978601bd89d",
   "metadata": {},
   "outputs": [],
   "source": []
  },
  {
   "cell_type": "code",
   "execution_count": 3,
   "id": "16d40b9b-b492-485c-a74e-d0b871a8b243",
   "metadata": {},
   "outputs": [],
   "source": [
    "x = \"Hello World\"#\tstr\t\n",
    "x = 20    #\tint\t\n",
    "x = 20.5\t#float\t\n",
    "x = 1j\t#complex\t\n",
    "x = [\"apple\", \"banana\", \"cherry\"]\t#list\t\n",
    "x = (\"apple\", \"banana\", \"cherry\")\t#tuple\t\n",
    "x = range(6)\t#range\t\n",
    "x = {\"name\" : \"John\", \"age\" : 36}\t#dict\t\n",
    "x = {\"apple\", \"banana\", \"cherry\"}\t#set\t\n",
    "x = True\t#bool\t\n",
    "x = None\t#NoneType"
   ]
  },
  {
   "cell_type": "code",
   "execution_count": null,
   "id": "1a46e431-e052-4900-b1aa-271ac3cd40b3",
   "metadata": {},
   "outputs": [],
   "source": []
  },
  {
   "cell_type": "markdown",
   "id": "9b54345e-f01f-4fc1-b81b-870e6c3e16d4",
   "metadata": {},
   "source": [
    "#### Working with `List` \n",
    "List is a popular data structure. It provides very useful tool for lots of operations."
   ]
  },
  {
   "cell_type": "markdown",
   "id": "6a1d84ca-24af-4572-843c-8fd1f59e7b58",
   "metadata": {},
   "source": [
    "List items are ordered, changeable, and allow duplicate values. List items are indexed, the first item has index [0], the second item has index [1] etc.\n",
    "\n",
    "- Ordered: When we say that lists are ordered, it means that the items have a defined order, and that order will not change. If you add new items to a list, the new items will be placed at the end of the list. \n",
    "- Changeable: The list is changeable, meaning that we can change, add, and remove items in a list after it has been created.\n",
    "- Allow Duplicates:Since lists are indexed, lists can have items with the same value:"
   ]
  },
  {
   "cell_type": "code",
   "execution_count": 35,
   "id": "74c729ce-f220-4bb2-a744-2251648aef54",
   "metadata": {},
   "outputs": [
    {
     "name": "stdout",
     "output_type": "stream",
     "text": [
      "['apple', 'banana', 'cherry', 'orange', 'pear', 1, 4, True]\n"
     ]
    }
   ],
   "source": [
    "thislist = [\"apple\", \"banana\", \"cherry\", \"orange\", \"pear\", 1, 4, True]\n",
    "print(thislist)"
   ]
  },
  {
   "cell_type": "code",
   "execution_count": null,
   "id": "1bd14ad8-262b-4b03-a4ca-6a5f710ddee3",
   "metadata": {},
   "outputs": [],
   "source": []
  },
  {
   "cell_type": "code",
   "execution_count": 36,
   "id": "84f3d4c1-818d-46f6-8285-f188cde73910",
   "metadata": {},
   "outputs": [
    {
     "name": "stdout",
     "output_type": "stream",
     "text": [
      "The length of the list 8\n",
      "['apple', 'banana', 'watermelon', 'cherry', 'orange', 'pear', 1, 4, True]\n",
      "apple\n",
      "banana\n",
      "True\n",
      "4\n",
      "['apple', 'banana']\n",
      "[4, True]\n"
     ]
    }
   ],
   "source": [
    "print(\"The length of the list\", len(thislist))\n",
    "\n",
    "\n",
    "# get the first item of the list, start from 0\n",
    "print(thislist[0])\n",
    "print(thislist[1])\n",
    "\n",
    "print(thislist[-1]) #the last item of the list\n",
    "print(thislist[-2]) #the last two item\n",
    "\n",
    "print(thislist[0:2]) #print the first two multiple items\n",
    "print(thislist[-2:]) #print the last two items"
   ]
  },
  {
   "cell_type": "code",
   "execution_count": null,
   "id": "55c37b49-877c-4803-b199-a1a71e00cc0f",
   "metadata": {},
   "outputs": [],
   "source": []
  },
  {
   "cell_type": "markdown",
   "id": "318acff2-4186-409d-aa2d-827719464f60",
   "metadata": {},
   "source": [
    "You can add new item at any position, you can also concatenate multiple list, remove items from the list."
   ]
  },
  {
   "cell_type": "code",
   "execution_count": 38,
   "id": "ccec901c-8d49-4fc2-bf82-ac8f441e5211",
   "metadata": {},
   "outputs": [
    {
     "name": "stdout",
     "output_type": "stream",
     "text": [
      "['apple', 'banana', 'watermelon', 'watermelon', 'cherry', 'orange', 'pear', 1, 4, True, 'orange', 'orange']\n"
     ]
    }
   ],
   "source": [
    "thislist.append(\"orange\") #add at the end of the list\n",
    "\n",
    "thislist.insert(2, \"watermelon\") #insert at any position\n",
    "print(thislist)"
   ]
  },
  {
   "cell_type": "code",
   "execution_count": null,
   "id": "65a0af84-b3b9-4e72-a3db-501b6257a284",
   "metadata": {},
   "outputs": [],
   "source": []
  },
  {
   "cell_type": "code",
   "execution_count": 42,
   "id": "b93bacb4-d838-400d-849b-18e3f3c85b2b",
   "metadata": {},
   "outputs": [
    {
     "name": "stdout",
     "output_type": "stream",
     "text": [
      "['apple', 'banana', 'watermelon', 'watermelon', 'cherry', 'orange', 'pear', 1, 4, True, 'orange', 'orange', 'mango', 'pineapple', 'papaya', 'mango', 'pineapple', 'papaya', 'mango', 'pineapple', 'papaya', 'mango', 'pineapple', 'papaya']\n"
     ]
    }
   ],
   "source": [
    "tropical = [\"mango\", \"pineapple\", \"papaya\"]\n",
    "thislist.extend(tropical)\n",
    "print(thislist)"
   ]
  },
  {
   "cell_type": "code",
   "execution_count": null,
   "id": "83bd7314-855b-4441-a554-e71887868521",
   "metadata": {},
   "outputs": [],
   "source": []
  },
  {
   "cell_type": "markdown",
   "id": "f4fb1cca-b5fe-46b6-8197-97ec93334997",
   "metadata": {},
   "source": [
    "#### Working with `Dictionary`\n",
    "Dictionaries are used to store data values in `key:value` pairs. A dictionary is a collection which is ordered*, changeable and do not allow duplicates. Dictionary is a very important concept for GIS vector data. We will use it often to handle the schema and metadata of shapefiles. \n",
    "\n"
   ]
  },
  {
   "cell_type": "code",
   "execution_count": 2,
   "id": "478e1284-7e43-49df-a674-c08f2b067a2c",
   "metadata": {},
   "outputs": [
    {
     "name": "stdout",
     "output_type": "stream",
     "text": [
      "Ford\n"
     ]
    }
   ],
   "source": [
    "thisdict = {\n",
    "  \"brand\": \"Ford\",\n",
    "  \"model\": \"Mustang\",\n",
    "  \"year\": 1964\n",
    "}\n",
    "\n",
    "print(thisdict[\"brand\"])"
   ]
  },
  {
   "cell_type": "code",
   "execution_count": null,
   "id": "871155bc-92b0-4354-8c10-cca85f403fb7",
   "metadata": {},
   "outputs": [],
   "source": []
  },
  {
   "cell_type": "markdown",
   "id": "1c981fac-bfb4-499e-b957-07269e19918e",
   "metadata": {},
   "source": [
    "The keys() method will return a list of all the keys in the dictionary."
   ]
  },
  {
   "cell_type": "code",
   "execution_count": 3,
   "id": "76eeb0c8-6cc7-4feb-8aa5-7b2d71fa7ced",
   "metadata": {},
   "outputs": [
    {
     "data": {
      "text/plain": [
       "dict_keys(['brand', 'model', 'year'])"
      ]
     },
     "execution_count": 3,
     "metadata": {},
     "output_type": "execute_result"
    }
   ],
   "source": [
    "x = thisdict.keys()\n",
    "x"
   ]
  },
  {
   "cell_type": "code",
   "execution_count": null,
   "id": "e9cb9edb-55ac-4d8e-9f6d-98dc1ba32f7a",
   "metadata": {},
   "outputs": [],
   "source": []
  },
  {
   "cell_type": "markdown",
   "id": "dcd2d6cf-2314-4bc1-ae1a-d9645ed2ae0a",
   "metadata": {},
   "source": [
    "Adding an item to the dictionary is done by using a new index key and assigning a value to it:"
   ]
  },
  {
   "cell_type": "code",
   "execution_count": 4,
   "id": "af29bbcd-3460-46e3-82c3-b776abdd4e15",
   "metadata": {},
   "outputs": [
    {
     "name": "stdout",
     "output_type": "stream",
     "text": [
      "{'brand': 'Ford', 'model': 'Mustang', 'year': 1964, 'color': 'red'}\n"
     ]
    }
   ],
   "source": [
    "thisdict[\"color\"] = \"red\"\n",
    "print(thisdict)"
   ]
  },
  {
   "cell_type": "code",
   "execution_count": null,
   "id": "81fb34c0-7049-41c3-9045-deb498530298",
   "metadata": {},
   "outputs": [],
   "source": []
  },
  {
   "cell_type": "markdown",
   "id": "64201b6b-3d34-4f09-939b-00d7bc2470d5",
   "metadata": {},
   "source": [
    "The update() method will update the dictionary with the items from a given argument. If the item does not exist, the item will be added. The argument must be a dictionary, or an iterable object with key:value pairs."
   ]
  },
  {
   "cell_type": "code",
   "execution_count": 5,
   "id": "53af0c38-3c61-428d-8cc4-24c63d2f899a",
   "metadata": {},
   "outputs": [
    {
     "data": {
      "text/plain": [
       "{'brand': 'Ford', 'model': 'Mustang', 'year': 1964, 'color': 'blue'}"
      ]
     },
     "execution_count": 5,
     "metadata": {},
     "output_type": "execute_result"
    }
   ],
   "source": [
    "thisdict.update({\"color\": \"blue\"})\n",
    "thisdict"
   ]
  },
  {
   "cell_type": "code",
   "execution_count": null,
   "id": "1813a78c-90fb-41c6-9066-9dbfbeffd9af",
   "metadata": {},
   "outputs": [],
   "source": []
  },
  {
   "cell_type": "markdown",
   "id": "a89d2feb-110d-4fb1-9e25-00e56eb2db48",
   "metadata": {},
   "source": [
    "Loop all the key:value pairs"
   ]
  },
  {
   "cell_type": "code",
   "execution_count": 6,
   "id": "fbcd0acc-1aba-492e-b3d9-e467d9e82869",
   "metadata": {},
   "outputs": [
    {
     "name": "stdout",
     "output_type": "stream",
     "text": [
      "the values are brand Ford\n",
      "the values are model Mustang\n",
      "the values are year 1964\n",
      "the values are color blue\n"
     ]
    }
   ],
   "source": [
    "for val in thisdict.keys():\n",
    "    print(\"the values are\", val, thisdict[val])"
   ]
  },
  {
   "cell_type": "code",
   "execution_count": null,
   "id": "95bc308c-0fd5-4d52-8137-d4dc8a15e8ec",
   "metadata": {},
   "outputs": [],
   "source": []
  },
  {
   "cell_type": "markdown",
   "id": "e8a7325e-090a-4c4c-b038-5a478f8378af",
   "metadata": {},
   "source": [
    "#### Python Conditions and `if`, `else` statements\n",
    "Python supports the usual logical conditions from mathematics:\n",
    "\n",
    "- Equals: a == b\n",
    "- Not Equals: a != b\n",
    "- Less than: a < b\n",
    "- Less than or equal to: a <= b\n",
    "- Greater than: a > b\n",
    "- Greater than or equal to: a >= b\n",
    "\n",
    "These conditions can be used in several ways, most commonly in \"if statements\" and loops.\n",
    "\n",
    "An \"if statement\" is written by using the if keyword."
   ]
  },
  {
   "cell_type": "code",
   "execution_count": 67,
   "id": "50790ae1-a73a-42d7-acf5-01c6b053b5ef",
   "metadata": {},
   "outputs": [
    {
     "name": "stdout",
     "output_type": "stream",
     "text": [
      "a is greater than b\n"
     ]
    }
   ],
   "source": [
    "a = 200\n",
    "b = 33\n",
    "\n",
    "if b > a:\n",
    "    print(\"b is greater than a\")\n",
    "elif a == b:\n",
    "    print(\"a and b are equal\")\n",
    "else:\n",
    "    print(\"a is greater than b\")"
   ]
  },
  {
   "cell_type": "code",
   "execution_count": null,
   "id": "58dc8bba-d7c6-407b-b80f-4ccfeefc4fc3",
   "metadata": {},
   "outputs": [],
   "source": []
  },
  {
   "cell_type": "markdown",
   "id": "cf4c3753-d7d3-4ef4-8b98-f5070f6368b5",
   "metadata": {},
   "source": [
    "##### `and` operation"
   ]
  },
  {
   "cell_type": "code",
   "execution_count": 68,
   "id": "93c50af4-0fc7-4f4c-9f1c-1b50b11dcd5b",
   "metadata": {},
   "outputs": [
    {
     "name": "stdout",
     "output_type": "stream",
     "text": [
      "Both conditions are True\n"
     ]
    }
   ],
   "source": [
    "a = 200\n",
    "b = 33\n",
    "c = 500\n",
    "if a > b and c > a:\n",
    "    print(\"Both conditions are True\")"
   ]
  },
  {
   "cell_type": "markdown",
   "id": "afd1d31b-f83c-44ea-88e4-0790c48dc080",
   "metadata": {},
   "source": [
    "##### `or` operation"
   ]
  },
  {
   "cell_type": "code",
   "execution_count": 69,
   "id": "7235a33e-4dd2-4d46-b228-62ed1b884afa",
   "metadata": {},
   "outputs": [
    {
     "name": "stdout",
     "output_type": "stream",
     "text": [
      "At least one of the conditions is True\n"
     ]
    }
   ],
   "source": [
    "a = 200\n",
    "b = 33\n",
    "c = 500\n",
    "if a > b or a > c:\n",
    "    print(\"At least one of the conditions is True\")"
   ]
  },
  {
   "cell_type": "code",
   "execution_count": null,
   "id": "63d1d4fe-efb6-45ec-add7-eb0c8025177f",
   "metadata": {},
   "outputs": [],
   "source": []
  },
  {
   "cell_type": "markdown",
   "id": "a2647ad3-120b-4d3b-a1d0-7411858dc5e1",
   "metadata": {},
   "source": [
    "#### Loops in Python\n",
    "There are two major loops in Python, the `for` loop and the `while` loop. "
   ]
  },
  {
   "cell_type": "code",
   "execution_count": 14,
   "id": "b4cb9b3e-6878-413c-ab37-36fec480532b",
   "metadata": {},
   "outputs": [
    {
     "name": "stdout",
     "output_type": "stream",
     "text": [
      "apple\n",
      "banana\n",
      "cherry\n"
     ]
    }
   ],
   "source": [
    "## a list, we are going to loop each item of the list\n",
    "fruits = [\"apple\", \"banana\", \"cherry\"]\n",
    "\n",
    "for x in fruits:\n",
    "    print(x)"
   ]
  },
  {
   "cell_type": "code",
   "execution_count": null,
   "id": "e066869d-c8f8-419d-a04e-1ea8e17d4746",
   "metadata": {},
   "outputs": [],
   "source": []
  },
  {
   "cell_type": "markdown",
   "id": "aca2eff2-94d7-43a2-ae50-2c0596e82855",
   "metadata": {},
   "source": [
    "we usually use `for` loop together with `range`"
   ]
  },
  {
   "cell_type": "code",
   "execution_count": 73,
   "id": "cd64e63c-6e1d-47e4-8e2b-c11d2b773ef6",
   "metadata": {},
   "outputs": [
    {
     "name": "stdout",
     "output_type": "stream",
     "text": [
      "0\n",
      "1\n",
      "2\n",
      "3\n",
      "4\n",
      "5\n",
      "6\n",
      "7\n",
      "8\n",
      "9\n"
     ]
    }
   ],
   "source": [
    "for i in range(10):\n",
    "    print(i)"
   ]
  },
  {
   "cell_type": "code",
   "execution_count": null,
   "id": "08d98839-d1a4-478a-9d10-442b86d4fece",
   "metadata": {},
   "outputs": [],
   "source": []
  },
  {
   "cell_type": "code",
   "execution_count": 77,
   "id": "19dd1987-69ce-466c-b912-19bd9bfd3bf3",
   "metadata": {},
   "outputs": [
    {
     "name": "stdout",
     "output_type": "stream",
     "text": [
      "2\n",
      "3\n",
      "4\n",
      "5\n"
     ]
    }
   ],
   "source": [
    "#Using the start parameter:\n",
    "for x in range(2, 6):\n",
    "    print(x)"
   ]
  },
  {
   "cell_type": "code",
   "execution_count": null,
   "id": "6ba2bcea-1b68-4b44-b180-0cb81d015a48",
   "metadata": {},
   "outputs": [],
   "source": []
  },
  {
   "cell_type": "code",
   "execution_count": 76,
   "id": "548ec406-cdb0-474b-b237-9401277d2685",
   "metadata": {},
   "outputs": [
    {
     "name": "stdout",
     "output_type": "stream",
     "text": [
      "2\n",
      "5\n",
      "8\n",
      "11\n",
      "14\n",
      "17\n",
      "20\n",
      "23\n",
      "26\n",
      "29\n"
     ]
    }
   ],
   "source": [
    "#Increment the sequence with 3 (default is 1):\n",
    "for x in range(2, 30, 3):\n",
    "    print(x)"
   ]
  },
  {
   "cell_type": "code",
   "execution_count": null,
   "id": "cc1bcad2-e56f-44ed-b743-ce466cf93bfb",
   "metadata": {},
   "outputs": [],
   "source": []
  },
  {
   "cell_type": "markdown",
   "id": "7db458dd-4d79-46ed-b186-99428e932a6c",
   "metadata": {},
   "source": [
    "`while` loop"
   ]
  },
  {
   "cell_type": "code",
   "execution_count": 18,
   "id": "5c206039-5c16-46d8-b9cf-452450d07a50",
   "metadata": {},
   "outputs": [
    {
     "name": "stdout",
     "output_type": "stream",
     "text": [
      "1\n",
      "2\n",
      "3\n",
      "4\n",
      "5\n",
      "6\n",
      "7\n",
      "8\n",
      "9\n",
      "10\n"
     ]
    }
   ],
   "source": [
    "i = 1\n",
    "while i < 100:\n",
    "    print(i)\n",
    "    i += 1\n",
    "    \n",
    "    if i>10:\n",
    "        break\n",
    "    "
   ]
  },
  {
   "cell_type": "code",
   "execution_count": null,
   "id": "4c58ae47-2a9c-4f75-9cfd-3ea8fc17f731",
   "metadata": {},
   "outputs": [],
   "source": []
  },
  {
   "cell_type": "code",
   "execution_count": null,
   "id": "e121d251-7fd4-4b97-b836-ebecd199a0a1",
   "metadata": {},
   "outputs": [],
   "source": []
  },
  {
   "cell_type": "markdown",
   "id": "404d55ca-ea0a-4648-a3be-ff5c7dc5a2c7",
   "metadata": {},
   "source": [
    "Working with `function`\n",
    "\n",
    "Functions allow a programmer to write reusable code to perform a single action. Functions provide better modulatrity for your application and a high degree of code-reusing. Once a function is defined, it can be called by typing the name of the function and passing the arguments. For example, Python gives you many built-in functions like print(). Functions can just perform an operation, or they can return values.\n",
    "\n",
    "Functions are defined using the key word `def`."
   ]
  },
  {
   "cell_type": "code",
   "execution_count": 7,
   "id": "b433f62b-b989-4b7b-b8ad-51a22b428e44",
   "metadata": {},
   "outputs": [
    {
     "name": "stdout",
     "output_type": "stream",
     "text": [
      "15\n",
      "25\n",
      "45\n"
     ]
    }
   ],
   "source": [
    "def my_function(x):\n",
    "    return 5 * x\n",
    "\n",
    "print(my_function(3))\n",
    "print(my_function(5))\n",
    "print(my_function(9))"
   ]
  },
  {
   "cell_type": "code",
   "execution_count": null,
   "id": "17369b35-7f7b-4729-a13e-3268aba32ce5",
   "metadata": {},
   "outputs": [],
   "source": []
  },
  {
   "cell_type": "code",
   "execution_count": 8,
   "id": "e7f09668-129a-4216-8766-13c9ba4e3eea",
   "metadata": {},
   "outputs": [
    {
     "name": "stdout",
     "output_type": "stream",
     "text": [
      "[-5, 8, 29, 58, 95, 140, 193, 254, 323, 400]\n"
     ]
    }
   ],
   "source": [
    "def y_fun(x):\n",
    "    y = 4*x*x + x - 10\n",
    "    return y\n",
    "\n",
    "x = [1, 2, 3, 4, 5, 6, 7, 8, 9, 10]\n",
    "y_list = []\n",
    "\n",
    "for i in x:\n",
    "    y = y_fun(i)\n",
    "    y_list.append(y)\n",
    "    \n",
    "print(y_list)"
   ]
  },
  {
   "cell_type": "code",
   "execution_count": null,
   "id": "81fd46f2-3373-42c9-b4b2-e0daeb85877c",
   "metadata": {},
   "outputs": [],
   "source": []
  },
  {
   "cell_type": "markdown",
   "id": "40558cb1-0ad4-46b1-94a2-df3af349e80d",
   "metadata": {},
   "source": [
    "#### Working with `Array`\n",
    "An array is a special variable, which can hold more than one value at a time. An array can hold many values under a single name, and you can access the values by referring to an index number. `` Array `` items should be the same type. This is different from the list.\n"
   ]
  },
  {
   "cell_type": "code",
   "execution_count": 3,
   "id": "32f4feb1-065c-44bd-9b9a-7c49f0842357",
   "metadata": {},
   "outputs": [
    {
     "name": "stdout",
     "output_type": "stream",
     "text": [
      "['Ford', 'Volvo', 'BMW']\n"
     ]
    }
   ],
   "source": [
    "cars = [\"Ford\", \"Volvo\", \"BMW\"]\n",
    "print (cars)"
   ]
  },
  {
   "cell_type": "code",
   "execution_count": 4,
   "id": "12d5cd00-4cbe-49ad-a2ac-932c85e7a246",
   "metadata": {},
   "outputs": [
    {
     "data": {
      "text/plain": [
       "3"
      ]
     },
     "execution_count": 4,
     "metadata": {},
     "output_type": "execute_result"
    }
   ],
   "source": [
    "x = len(cars)\n",
    "x"
   ]
  },
  {
   "cell_type": "code",
   "execution_count": 5,
   "id": "e07bdba8-026a-477a-b823-5ce7856bdfb7",
   "metadata": {},
   "outputs": [
    {
     "data": {
      "text/plain": [
       "['Ford', 'Volvo', 'BMW', 'Nissan']"
      ]
     },
     "execution_count": 5,
     "metadata": {},
     "output_type": "execute_result"
    }
   ],
   "source": [
    "cars.append(\"Nissan\")\n",
    "cars"
   ]
  },
  {
   "cell_type": "code",
   "execution_count": 6,
   "id": "2cd35d64-e984-4e55-84df-ddd04c0a912c",
   "metadata": {},
   "outputs": [
    {
     "data": {
      "text/plain": [
       "'Volvo'"
      ]
     },
     "execution_count": 6,
     "metadata": {},
     "output_type": "execute_result"
    }
   ],
   "source": [
    "# Delete the second element of the cars array:\n",
    "cars.pop(1)"
   ]
  },
  {
   "cell_type": "code",
   "execution_count": 7,
   "id": "d2836a0d-e335-4dd1-9f98-63fab34c5bb7",
   "metadata": {},
   "outputs": [
    {
     "name": "stdout",
     "output_type": "stream",
     "text": [
      "['Ford', 'BMW', 'Nissan']\n"
     ]
    }
   ],
   "source": [
    "print(cars)"
   ]
  },
  {
   "cell_type": "code",
   "execution_count": null,
   "id": "c17f977d-4133-4ce7-9f97-1cf7d84bf6f7",
   "metadata": {},
   "outputs": [],
   "source": []
  },
  {
   "cell_type": "code",
   "execution_count": 8,
   "id": "91160f07-91eb-4dd6-a241-e3d22714a900",
   "metadata": {},
   "outputs": [
    {
     "data": {
      "text/plain": [
       "['Ford', 'Nissan']"
      ]
     },
     "execution_count": 8,
     "metadata": {},
     "output_type": "execute_result"
    }
   ],
   "source": [
    "cars.remove(\"BMW\")\n",
    "cars"
   ]
  },
  {
   "cell_type": "code",
   "execution_count": null,
   "id": "d79698fb-3676-48f8-81ec-8a95d9ac6081",
   "metadata": {},
   "outputs": [],
   "source": []
  },
  {
   "cell_type": "markdown",
   "id": "fc12f7c6-bb67-4067-b4a3-3b57846624c6",
   "metadata": {},
   "source": [
    "#### Working with `numpy` array\n",
    "Numpy array is more widely used in Python. Numpy powers Python in GIS and AI. NumPy is a Python library. NumPy is used for working with arrays. NumPy is short for \"Numerical Python\". \n",
    "\n",
    "`Array`, especially the `numpy` Array is an important concept for the raster data operation. We will use intensively on `Array` in this class. "
   ]
  },
  {
   "cell_type": "code",
   "execution_count": 15,
   "id": "c4b9b67d-14f7-4091-8ca2-37de82c33552",
   "metadata": {},
   "outputs": [
    {
     "name": "stdout",
     "output_type": "stream",
     "text": [
      "[1 2 3 4 5]\n",
      "<class 'numpy.ndarray'>\n"
     ]
    }
   ],
   "source": [
    "import numpy as np\n",
    "\n",
    "arr = np.array([1, 2, 3, 4, 5])\n",
    "\n",
    "print(arr)\n",
    "\n",
    "print(type(arr))\n"
   ]
  },
  {
   "cell_type": "code",
   "execution_count": null,
   "id": "9b6d47b7-feef-4b78-a33a-40f125ec3272",
   "metadata": {},
   "outputs": [],
   "source": []
  },
  {
   "cell_type": "markdown",
   "id": "84036350-0a7a-443d-ac24-d8fc5ea10b97",
   "metadata": {},
   "source": [
    "Two dimensional numpy array, can be multidimensional as well"
   ]
  },
  {
   "cell_type": "code",
   "execution_count": 9,
   "id": "0790625e-849d-4fcd-a3a5-7e138c09e64a",
   "metadata": {},
   "outputs": [
    {
     "name": "stdout",
     "output_type": "stream",
     "text": [
      "2nd element on 1st row:  2\n"
     ]
    }
   ],
   "source": [
    "import numpy as np\n",
    "\n",
    "arr = np.array([[1,2,3,4,5], [6,7,8,9,10]])\n",
    "\n",
    "print('2nd element on 1st row: ', arr[0, 1])"
   ]
  },
  {
   "cell_type": "code",
   "execution_count": 17,
   "id": "b00e3ffc-3151-4c35-bd42-db07acda52d8",
   "metadata": {},
   "outputs": [
    {
     "name": "stdout",
     "output_type": "stream",
     "text": [
      "7\n"
     ]
    }
   ],
   "source": [
    "import numpy as np\n",
    "\n",
    "arr = np.array([1, 2, 3, 4])\n",
    "\n",
    "print(arr[2] + arr[3])"
   ]
  },
  {
   "cell_type": "code",
   "execution_count": null,
   "id": "d0408524-e39f-49fc-8e03-f51ad0878d42",
   "metadata": {},
   "outputs": [],
   "source": []
  },
  {
   "cell_type": "markdown",
   "id": "a7803a68-eb53-429a-b0a9-e9027fd603c0",
   "metadata": {},
   "source": [
    "#### Python inbuilt modules for file/folders\n",
    "There are many inbuilt Python modules. We don't need to install them and just use them directly. These modules are handy for many operations. `numpy` is an inbuilt module. For example, we can use modules of `os`, `os.path` for the file operations, like create a file path full name, creating a folder, check the existence of the files. "
   ]
  },
  {
   "cell_type": "code",
   "execution_count": 18,
   "id": "5ad85a7e-5c6e-4b90-9156-9563574bd02e",
   "metadata": {},
   "outputs": [
    {
     "name": "stdout",
     "output_type": "stream",
     "text": [
      "/home/user/test.jpg\n"
     ]
    }
   ],
   "source": [
    "import os, os.path\n",
    "\n",
    "root = r\"/home/user/\"\n",
    "path = 'test.jpg'\n",
    "\n",
    "fullpath = os.path.join(root, path)\n",
    "print(fullpath)"
   ]
  },
  {
   "cell_type": "code",
   "execution_count": null,
   "id": "c0c3c31d-f7f2-4929-8636-8026b6fe58c2",
   "metadata": {},
   "outputs": [],
   "source": []
  },
  {
   "cell_type": "markdown",
   "id": "02028842-d5da-435e-a06d-e1b8ec8ba313",
   "metadata": {},
   "source": [
    "We can use `matplotlib` to draw graphics and also show images in future"
   ]
  },
  {
   "cell_type": "code",
   "execution_count": 12,
   "id": "0b64e084-bc5a-4dfc-8b0f-45f7c4809c8e",
   "metadata": {},
   "outputs": [
    {
     "data": {
      "image/png": "[encoded data removed]",
      "text/plain": [
       "<Figure size 640x480 with 1 Axes>"
      ]
     },
     "metadata": {},
     "output_type": "display_data"
    }
   ],
   "source": [
    "from matplotlib import pyplot as plt\n",
    "\n",
    "a = np.array([1, 2, 4, 10, 14, 16])\n",
    "\n",
    "plt.plot(a)\n",
    "plt.show()\n"
   ]
  },
  {
   "cell_type": "code",
   "execution_count": null,
   "id": "b97362c6-183e-4910-9da1-2de209945d38",
   "metadata": {},
   "outputs": [],
   "source": []
  },
  {
   "cell_type": "markdown",
   "id": "e4752ac3-2783-48d3-a2a2-b182df02e5e1",
   "metadata": {},
   "source": [
    "Create a folder"
   ]
  },
  {
   "cell_type": "code",
   "execution_count": 11,
   "id": "c02e60c3-c67f-46d2-a725-107b07ed16cc",
   "metadata": {},
   "outputs": [
    {
     "name": "stdout",
     "output_type": "stream",
     "text": [
      "The folder already exists\n"
     ]
    }
   ],
   "source": [
    "folder = r'testfolder' #the path of the folder, can be absolute path or relative path, here is the folder in the current working directory\n",
    "if not os.path.exists(folder): #if the folder is not exists, then create a folder\n",
    "    print(\"the folder not exists, we are going to create one\")\n",
    "    os.mkdir(folder)\n",
    "else:\n",
    "    print(\"The folder already exists\")"
   ]
  },
  {
   "cell_type": "code",
   "execution_count": 106,
   "id": "aceeb534-0be8-4604-8ea6-ce264e6da386",
   "metadata": {},
   "outputs": [
    {
     "name": "stdout",
     "output_type": "stream",
     "text": [
      "Python-basics.ipynb  \u001b[1m\u001b[34mtestfolder\u001b[m\u001b[m/\n"
     ]
    }
   ],
   "source": [
    "ls"
   ]
  },
  {
   "cell_type": "code",
   "execution_count": null,
   "id": "19dd86ce-36b3-4c38-9771-89fbdbec21b4",
   "metadata": {},
   "outputs": [],
   "source": []
  },
  {
   "cell_type": "markdown",
   "id": "7ee4a299-66be-4d75-be9b-28a78cf9bc6f",
   "metadata": {},
   "source": [
    "#### Read and write txt file"
   ]
  },
  {
   "cell_type": "code",
   "execution_count": 14,
   "id": "6a07d63b-362b-4598-8ad1-a6bae12fe748",
   "metadata": {},
   "outputs": [],
   "source": [
    "# Writing to a file\n",
    "with open(\"example.txt\", \"w\") as file:  # 'w' mode means write\n",
    "    file.write(\"Hello, World!\\n\")       # Write a single line\n",
    "    file.write(\"This is a second line.\")  # Write another line"
   ]
  },
  {
   "cell_type": "code",
   "execution_count": null,
   "id": "aa7d0e44-01ac-4918-b89c-f2273b681a40",
   "metadata": {},
   "outputs": [],
   "source": []
  },
  {
   "cell_type": "code",
   "execution_count": 15,
   "id": "4b891ab5-eee8-4931-878d-007ec47ef399",
   "metadata": {},
   "outputs": [
    {
     "name": "stdout",
     "output_type": "stream",
     "text": [
      "Basics-python-spatial-data.ipynb  \u001b[1m\u001b[34mimages\u001b[m\u001b[m/\n",
      "Python-basics.ipynb               install-anaconda.md\n",
      "data.zip                          jupyter-notebook.md\n",
      "example.txt\n"
     ]
    }
   ],
   "source": [
    "ls"
   ]
  },
  {
   "cell_type": "code",
   "execution_count": null,
   "id": "87c4f74a-e920-4d8d-9577-643fa93055fb",
   "metadata": {},
   "outputs": [],
   "source": []
  },
  {
   "cell_type": "markdown",
   "id": "846a6b99-6334-4b60-8aa7-a3d983cefea6",
   "metadata": {},
   "source": [
    "Let export the txt file into the specified folder"
   ]
  },
  {
   "cell_type": "code",
   "execution_count": 18,
   "id": "e8bcf1c1-6393-4fe2-97d1-bc6a634dc76d",
   "metadata": {},
   "outputs": [],
   "source": [
    "import os, os.path\n",
    "\n",
    "root = './'\n",
    "out_txt_folder = os.path.join(root, 'txtfolder')\n",
    "\n",
    "# if not exist, create a new folder\n",
    "if not os.path.exists(out_txt_folder):\n",
    "    os.mkdir(out_txt_folder)\n",
    "\n",
    "out_txt_file = os.path.join(out_txt_folder, 'res.txt')\n",
    "# Writing to a file\n",
    "with open(out_txt_file, \"w\") as file:  # 'w' mode means write\n",
    "    file.write(\"Hello, World!\\n\")       # Write a single line\n",
    "    file.write(\"This is a second line.\")  # Write another line"
   ]
  },
  {
   "cell_type": "code",
   "execution_count": null,
   "id": "09e04ae3-0fc0-4044-a53c-d8c2fa21fffa",
   "metadata": {},
   "outputs": [],
   "source": []
  },
  {
   "cell_type": "code",
   "execution_count": 19,
   "id": "7d88edfd-6001-46c1-a374-b91ef69e1eac",
   "metadata": {},
   "outputs": [
    {
     "name": "stdout",
     "output_type": "stream",
     "text": [
      "Hello, World!\n",
      "This is a second line.\n"
     ]
    }
   ],
   "source": [
    "# Reading from a file\n",
    "with open(out_txt_file, \"r\") as file:  # 'r' mode means read\n",
    "    content = file.read()  # Reads the entire file\n",
    "    print(content)"
   ]
  },
  {
   "cell_type": "code",
   "execution_count": null,
   "id": "84a5f335-f9cb-45b0-9704-cde6783dea0b",
   "metadata": {},
   "outputs": [],
   "source": []
  },
  {
   "cell_type": "code",
   "execution_count": 20,
   "id": "b573f51d-006c-43ef-80c4-2f41c6004d3f",
   "metadata": {},
   "outputs": [],
   "source": [
    "# Appending to a file\n",
    "with open(out_txt_file, \"a\") as file:  # 'a' mode means append\n",
    "    file.write(\"\\nAdding a new line!\")"
   ]
  },
  {
   "cell_type": "code",
   "execution_count": null,
   "id": "bf3c0976-bbd2-4c42-aa30-0d7be08c4b1d",
   "metadata": {},
   "outputs": [],
   "source": []
  },
  {
   "cell_type": "code",
   "execution_count": 21,
   "id": "632b739b-9a51-4d70-8442-ceecafc0b354",
   "metadata": {},
   "outputs": [
    {
     "name": "stdout",
     "output_type": "stream",
     "text": [
      "Hello, World!\n",
      "This is a second line.\n",
      "Adding a new line!\n"
     ]
    }
   ],
   "source": [
    "# Reading from a file\n",
    "with open(out_txt_file, \"r\") as file:  # 'r' mode means read\n",
    "    content = file.read()  # Reads the entire file\n",
    "    print(content)"
   ]
  },
  {
   "cell_type": "code",
   "execution_count": null,
   "id": "bf7b6149-942a-4c0c-97df-f93487590319",
   "metadata": {},
   "outputs": [],
   "source": []
  },
  {
   "cell_type": "markdown",
   "id": "32ecc558-2c9e-4a16-8737-7ffaddf5617b",
   "metadata": {},
   "source": [
    "#### Read and write spread tables using `pandas`"
   ]
  },
  {
   "cell_type": "code",
   "execution_count": 11,
   "id": "a16ec124-0863-4905-b779-5900b843205e",
   "metadata": {},
   "outputs": [],
   "source": [
    "import pandas as pd"
   ]
  },
  {
   "cell_type": "code",
   "execution_count": null,
   "id": "949d28ba-d3a6-4ee4-a568-a1a0d3f9d1b9",
   "metadata": {},
   "outputs": [],
   "source": []
  },
  {
   "cell_type": "markdown",
   "id": "50d1dd60-2093-44ad-b93e-12ed365fe72c",
   "metadata": {},
   "source": [
    "read a csv spreadsheet table"
   ]
  },
  {
   "cell_type": "code",
   "execution_count": 30,
   "id": "0dad3b9b-9f32-45a3-aa9d-5715361ac9c3",
   "metadata": {},
   "outputs": [
    {
     "data": {
      "text/html": [
       "<div>\n",
       "<style scoped>\n",
       "    .dataframe tbody tr th:only-of-type {\n",
       "        vertical-align: middle;\n",
       "    }\n",
       "\n",
       "    .dataframe tbody tr th {\n",
       "        vertical-align: top;\n",
       "    }\n",
       "\n",
       "    .dataframe thead th {\n",
       "        text-align: right;\n",
       "    }\n",
       "</style>\n",
       "<table border=\"1\" class=\"dataframe\">\n",
       "  <thead>\n",
       "    <tr style=\"text-align: right;\">\n",
       "      <th></th>\n",
       "      <th>STATEFP</th>\n",
       "      <th>COUNTYFP</th>\n",
       "      <th>TRACTCE</th>\n",
       "      <th>GEOID</th>\n",
       "      <th>NAME_x</th>\n",
       "      <th>NAMELSAD</th>\n",
       "      <th>MTFCC</th>\n",
       "      <th>FUNCSTAT</th>\n",
       "      <th>ALAND</th>\n",
       "      <th>AWATER</th>\n",
       "      <th>...</th>\n",
       "      <th>male85_</th>\n",
       "      <th>fema_65_66</th>\n",
       "      <th>fema_67_69</th>\n",
       "      <th>fema70_74</th>\n",
       "      <th>fema75_79</th>\n",
       "      <th>fema80_84</th>\n",
       "      <th>fema85_</th>\n",
       "      <th>state</th>\n",
       "      <th>county</th>\n",
       "      <th>tract</th>\n",
       "    </tr>\n",
       "  </thead>\n",
       "  <tbody>\n",
       "    <tr>\n",
       "      <th>0</th>\n",
       "      <td>42</td>\n",
       "      <td>101</td>\n",
       "      <td>14500</td>\n",
       "      <td>42101014500</td>\n",
       "      <td>145.0</td>\n",
       "      <td>Census Tract 145</td>\n",
       "      <td>G5020</td>\n",
       "      <td>S</td>\n",
       "      <td>321465</td>\n",
       "      <td>0</td>\n",
       "      <td>...</td>\n",
       "      <td>14</td>\n",
       "      <td>25</td>\n",
       "      <td>46</td>\n",
       "      <td>33</td>\n",
       "      <td>7</td>\n",
       "      <td>17</td>\n",
       "      <td>28</td>\n",
       "      <td>42</td>\n",
       "      <td>101</td>\n",
       "      <td>14500</td>\n",
       "    </tr>\n",
       "    <tr>\n",
       "      <th>1</th>\n",
       "      <td>42</td>\n",
       "      <td>101</td>\n",
       "      <td>31200</td>\n",
       "      <td>42101031200</td>\n",
       "      <td>312.0</td>\n",
       "      <td>Census Tract 312</td>\n",
       "      <td>G5020</td>\n",
       "      <td>S</td>\n",
       "      <td>429735</td>\n",
       "      <td>0</td>\n",
       "      <td>...</td>\n",
       "      <td>6</td>\n",
       "      <td>42</td>\n",
       "      <td>63</td>\n",
       "      <td>202</td>\n",
       "      <td>48</td>\n",
       "      <td>0</td>\n",
       "      <td>11</td>\n",
       "      <td>42</td>\n",
       "      <td>101</td>\n",
       "      <td>31200</td>\n",
       "    </tr>\n",
       "    <tr>\n",
       "      <th>2</th>\n",
       "      <td>42</td>\n",
       "      <td>101</td>\n",
       "      <td>21800</td>\n",
       "      <td>42101021800</td>\n",
       "      <td>218.0</td>\n",
       "      <td>Census Tract 218</td>\n",
       "      <td>G5020</td>\n",
       "      <td>S</td>\n",
       "      <td>1006008</td>\n",
       "      <td>0</td>\n",
       "      <td>...</td>\n",
       "      <td>18</td>\n",
       "      <td>0</td>\n",
       "      <td>84</td>\n",
       "      <td>55</td>\n",
       "      <td>98</td>\n",
       "      <td>27</td>\n",
       "      <td>17</td>\n",
       "      <td>42</td>\n",
       "      <td>101</td>\n",
       "      <td>21800</td>\n",
       "    </tr>\n",
       "    <tr>\n",
       "      <th>3</th>\n",
       "      <td>42</td>\n",
       "      <td>101</td>\n",
       "      <td>9100</td>\n",
       "      <td>42101009100</td>\n",
       "      <td>91.0</td>\n",
       "      <td>Census Tract 91</td>\n",
       "      <td>G5020</td>\n",
       "      <td>S</td>\n",
       "      <td>425574</td>\n",
       "      <td>0</td>\n",
       "      <td>...</td>\n",
       "      <td>10</td>\n",
       "      <td>62</td>\n",
       "      <td>33</td>\n",
       "      <td>131</td>\n",
       "      <td>42</td>\n",
       "      <td>42</td>\n",
       "      <td>53</td>\n",
       "      <td>42</td>\n",
       "      <td>101</td>\n",
       "      <td>9100</td>\n",
       "    </tr>\n",
       "    <tr>\n",
       "      <th>4</th>\n",
       "      <td>42</td>\n",
       "      <td>101</td>\n",
       "      <td>33600</td>\n",
       "      <td>42101033600</td>\n",
       "      <td>336.0</td>\n",
       "      <td>Census Tract 336</td>\n",
       "      <td>G5020</td>\n",
       "      <td>S</td>\n",
       "      <td>1153477</td>\n",
       "      <td>0</td>\n",
       "      <td>...</td>\n",
       "      <td>0</td>\n",
       "      <td>74</td>\n",
       "      <td>86</td>\n",
       "      <td>80</td>\n",
       "      <td>28</td>\n",
       "      <td>72</td>\n",
       "      <td>48</td>\n",
       "      <td>42</td>\n",
       "      <td>101</td>\n",
       "      <td>33600</td>\n",
       "    </tr>\n",
       "  </tbody>\n",
       "</table>\n",
       "<p>5 rows × 43 columns</p>\n",
       "</div>"
      ],
      "text/plain": [
       "   STATEFP  COUNTYFP  TRACTCE        GEOID  NAME_x          NAMELSAD  MTFCC  \\\n",
       "0       42       101    14500  42101014500   145.0  Census Tract 145  G5020   \n",
       "1       42       101    31200  42101031200   312.0  Census Tract 312  G5020   \n",
       "2       42       101    21800  42101021800   218.0  Census Tract 218  G5020   \n",
       "3       42       101     9100  42101009100    91.0   Census Tract 91  G5020   \n",
       "4       42       101    33600  42101033600   336.0  Census Tract 336  G5020   \n",
       "\n",
       "  FUNCSTAT    ALAND  AWATER  ...  male85_  fema_65_66 fema_67_69 fema70_74  \\\n",
       "0        S   321465       0  ...       14          25         46        33   \n",
       "1        S   429735       0  ...        6          42         63       202   \n",
       "2        S  1006008       0  ...       18           0         84        55   \n",
       "3        S   425574       0  ...       10          62         33       131   \n",
       "4        S  1153477       0  ...        0          74         86        80   \n",
       "\n",
       "   fema75_79  fema80_84  fema85_  state  county  tract  \n",
       "0          7         17       28     42     101  14500  \n",
       "1         48          0       11     42     101  31200  \n",
       "2         98         27       17     42     101  21800  \n",
       "3         42         42       53     42     101   9100  \n",
       "4         28         72       48     42     101  33600  \n",
       "\n",
       "[5 rows x 43 columns]"
      ]
     },
     "execution_count": 30,
     "metadata": {},
     "output_type": "execute_result"
    }
   ],
   "source": [
    "# Load the CSV file into a DataFrame\n",
    "df = pd.read_csv(\"data/census_data.csv\")\n",
    "df.head() #print the first 5 records"
   ]
  },
  {
   "cell_type": "code",
   "execution_count": 31,
   "id": "0323021d-977c-4532-bd73-b5960df3b2ea",
   "metadata": {},
   "outputs": [
    {
     "name": "stdout",
     "output_type": "stream",
     "text": [
      "   STATEFP  COUNTYFP  TRACTCE        GEOID  NAME_x          NAMELSAD  MTFCC  \\\n",
      "0       42       101    14500  42101014500   145.0  Census Tract 145  G5020   \n",
      "1       42       101    31200  42101031200   312.0  Census Tract 312  G5020   \n",
      "2       42       101    21800  42101021800   218.0  Census Tract 218  G5020   \n",
      "3       42       101     9100  42101009100    91.0   Census Tract 91  G5020   \n",
      "4       42       101    33600  42101033600   336.0  Census Tract 336  G5020   \n",
      "\n",
      "  FUNCSTAT    ALAND  AWATER  ...  male85_  fema_65_66 fema_67_69 fema70_74  \\\n",
      "0        S   321465       0  ...       14          25         46        33   \n",
      "1        S   429735       0  ...        6          42         63       202   \n",
      "2        S  1006008       0  ...       18           0         84        55   \n",
      "3        S   425574       0  ...       10          62         33       131   \n",
      "4        S  1153477       0  ...        0          74         86        80   \n",
      "\n",
      "   fema75_79  fema80_84  fema85_  state  county  tract  \n",
      "0          7         17       28     42     101  14500  \n",
      "1         48          0       11     42     101  31200  \n",
      "2         98         27       17     42     101  21800  \n",
      "3         42         42       53     42     101   9100  \n",
      "4         28         72       48     42     101  33600  \n",
      "\n",
      "[5 rows x 43 columns]\n",
      "     STATEFP  COUNTYFP  TRACTCE        GEOID  NAME_x             NAMELSAD  \\\n",
      "379       42       101     8701  42101008701   87.01   Census Tract 87.01   \n",
      "380       42       101     8102  42101008102   81.02   Census Tract 81.02   \n",
      "381       42       101     1002  42101001002   10.02   Census Tract 10.02   \n",
      "382       42       101    30502  42101030502  305.02  Census Tract 305.02   \n",
      "383       42       101    31502  42101031502  315.02  Census Tract 315.02   \n",
      "\n",
      "     MTFCC FUNCSTAT   ALAND  AWATER  ...  male85_  fema_65_66 fema_67_69  \\\n",
      "379  G5020        S  259546       0  ...        0          16          0   \n",
      "380  G5020        S  362526       0  ...        0          35         76   \n",
      "381  G5020        S  471655       0  ...       10          18        133   \n",
      "382  G5020        S  699364       0  ...        5          96         46   \n",
      "383  G5020        S  578102       0  ...       40          74         21   \n",
      "\n",
      "    fema70_74  fema75_79  fema80_84  fema85_  state  county  tract  \n",
      "379         0          0         19       32     42     101   8701  \n",
      "380        32         60         95      130     42     101   8102  \n",
      "381       125         17         47       10     42     101   1002  \n",
      "382        27         75         24       19     42     101  30502  \n",
      "383        51         48         31       22     42     101  31502  \n",
      "\n",
      "[5 rows x 43 columns]\n"
     ]
    }
   ],
   "source": [
    "# View the first 5 rows\n",
    "print(df.head())\n",
    "\n",
    "# View the last 5 rows\n",
    "print(df.tail())"
   ]
  },
  {
   "cell_type": "code",
   "execution_count": null,
   "id": "a344814b-5b1f-4743-8f07-229616c8075a",
   "metadata": {},
   "outputs": [],
   "source": []
  },
  {
   "cell_type": "code",
   "execution_count": 32,
   "id": "13503be4-a46e-4643-a230-101aeff6eb3b",
   "metadata": {},
   "outputs": [
    {
     "name": "stdout",
     "output_type": "stream",
     "text": [
      "<class 'pandas.core.frame.DataFrame'>\n",
      "RangeIndex: 384 entries, 0 to 383\n",
      "Data columns (total 43 columns):\n",
      " #   Column      Non-Null Count  Dtype  \n",
      "---  ------      --------------  -----  \n",
      " 0   STATEFP     384 non-null    int64  \n",
      " 1   COUNTYFP    384 non-null    int64  \n",
      " 2   TRACTCE     384 non-null    int64  \n",
      " 3   GEOID       384 non-null    int64  \n",
      " 4   NAME_x      384 non-null    float64\n",
      " 5   NAMELSAD    384 non-null    object \n",
      " 6   MTFCC       384 non-null    object \n",
      " 7   FUNCSTAT    384 non-null    object \n",
      " 8   ALAND       384 non-null    int64  \n",
      " 9   AWATER      384 non-null    int64  \n",
      " 10  INTPTLAT    384 non-null    float64\n",
      " 11  INTPTLON    384 non-null    float64\n",
      " 12  NAME_y      384 non-null    object \n",
      " 13  GEO_ID      384 non-null    object \n",
      " 14  white_popu  384 non-null    int64  \n",
      " 15  non-hispan  384 non-null    int64  \n",
      " 16  black_popu  384 non-null    int64  \n",
      " 17  asian_popu  384 non-null    int64  \n",
      " 18  hispanic_p  384 non-null    int64  \n",
      " 19  total_popu  384 non-null    int64  \n",
      " 20  median_hou  384 non-null    int64  \n",
      " 21  per_capita  384 non-null    int64  \n",
      " 22  built_age   384 non-null    int64  \n",
      " 23  less_highs  384 non-null    int64  \n",
      " 24  bachelor    384 non-null    int64  \n",
      " 25  totaleduca  384 non-null    int64  \n",
      " 26  male_und18  384 non-null    int64  \n",
      " 27  female_und  384 non-null    int64  \n",
      " 28  male65_66   384 non-null    int64  \n",
      " 29  male67_69   384 non-null    int64  \n",
      " 30  male70_74   384 non-null    int64  \n",
      " 31  male75_79   384 non-null    int64  \n",
      " 32  male80_84   384 non-null    int64  \n",
      " 33  male85_     384 non-null    int64  \n",
      " 34  fema_65_66  384 non-null    int64  \n",
      " 35  fema_67_69  384 non-null    int64  \n",
      " 36  fema70_74   384 non-null    int64  \n",
      " 37  fema75_79   384 non-null    int64  \n",
      " 38  fema80_84   384 non-null    int64  \n",
      " 39  fema85_     384 non-null    int64  \n",
      " 40  state       384 non-null    int64  \n",
      " 41  county      384 non-null    int64  \n",
      " 42  tract       384 non-null    int64  \n",
      "dtypes: float64(3), int64(35), object(5)\n",
      "memory usage: 129.1+ KB\n",
      "None\n",
      "       STATEFP  COUNTYFP        TRACTCE         GEOID       NAME_x  \\\n",
      "count    384.0     384.0     384.000000  3.840000e+02   384.000000   \n",
      "mean      42.0     101.0   47178.580729  4.210105e+10   471.785807   \n",
      "std        0.0       0.0  161029.335452  1.610293e+05  1610.293355   \n",
      "min       42.0     101.0     100.000000  4.210100e+10     1.000000   \n",
      "25%       42.0     101.0    9575.000000  4.210101e+10    95.750000   \n",
      "50%       42.0     101.0   20101.500000  4.210102e+10   201.015000   \n",
      "75%       42.0     101.0   31101.250000  4.210103e+10   311.012500   \n",
      "max       42.0     101.0  989100.000000  4.210199e+10  9891.000000   \n",
      "\n",
      "              ALAND        AWATER    INTPTLAT    INTPTLON   white_popu  ...  \\\n",
      "count  3.840000e+02  3.840000e+02  384.000000  384.000000   384.000000  ...   \n",
      "mean   9.053682e+05  5.710037e+04   40.001362  -75.147301  1689.817708  ...   \n",
      "std    1.257478e+06  3.217646e+05    0.052336    0.067592  1535.819378  ...   \n",
      "min    9.995700e+04  0.000000e+00   39.880059  -75.267879     0.000000  ...   \n",
      "25%    3.975588e+05  0.000000e+00   39.957579  -75.193597   301.750000  ...   \n",
      "50%    6.003570e+05  0.000000e+00   39.999032  -75.159728  1323.000000  ...   \n",
      "75%    9.554652e+05  1.425000e+01   40.042847  -75.110569  2641.500000  ...   \n",
      "max    1.733438e+07  3.358114e+06   40.128894  -74.966739  6188.000000  ...   \n",
      "\n",
      "          male85_  fema_65_66  fema_67_69   fema70_74   fema75_79   fema80_84  \\\n",
      "count  384.000000  384.000000  384.000000  384.000000  384.000000  384.000000   \n",
      "mean    21.924479   42.388021   59.010417   73.401042   54.968750   44.343750   \n",
      "std     28.766677   33.246260   48.997521   57.134586   46.971955   44.131557   \n",
      "min      0.000000    0.000000    0.000000    0.000000    0.000000    0.000000   \n",
      "25%      0.000000   18.000000   24.000000   32.000000   19.000000   12.000000   \n",
      "50%     12.000000   38.000000   49.000000   63.000000   46.000000   32.500000   \n",
      "75%     31.000000   60.000000   79.250000  100.000000   80.000000   64.000000   \n",
      "max    163.000000  219.000000  332.000000  328.000000  245.000000  312.000000   \n",
      "\n",
      "          fema85_  state  county          tract  \n",
      "count  384.000000  384.0   384.0     384.000000  \n",
      "mean    51.106771   42.0   101.0   47178.580729  \n",
      "std     56.703494    0.0     0.0  161029.335452  \n",
      "min      0.000000   42.0   101.0     100.000000  \n",
      "25%     12.000000   42.0   101.0    9575.000000  \n",
      "50%     33.000000   42.0   101.0   20101.500000  \n",
      "75%     71.000000   42.0   101.0   31101.250000  \n",
      "max    340.000000   42.0   101.0  989100.000000  \n",
      "\n",
      "[8 rows x 38 columns]\n"
     ]
    }
   ],
   "source": [
    "# Display general info about the DataFrame\n",
    "print(df.info())\n",
    "\n",
    "# Display summary statistics for numerical columns\n",
    "print(df.describe())"
   ]
  },
  {
   "cell_type": "code",
   "execution_count": null,
   "id": "e214d594-fd12-4c02-a91d-de46cbe545b0",
   "metadata": {},
   "outputs": [],
   "source": []
  },
  {
   "cell_type": "markdown",
   "id": "d486df0d-bcf0-4dd7-ac87-345157ee0149",
   "metadata": {},
   "source": [
    "Print all column names"
   ]
  },
  {
   "cell_type": "code",
   "execution_count": 34,
   "id": "a9759d41-a9db-4665-b546-d0e0e8864b8b",
   "metadata": {},
   "outputs": [
    {
     "name": "stdout",
     "output_type": "stream",
     "text": [
      "Index(['STATEFP', 'COUNTYFP', 'TRACTCE', 'GEOID', 'NAME_x', 'NAMELSAD',\n",
      "       'MTFCC', 'FUNCSTAT', 'ALAND', 'AWATER', 'INTPTLAT', 'INTPTLON',\n",
      "       'NAME_y', 'GEO_ID', 'white_popu', 'non-hispan', 'black_popu',\n",
      "       'asian_popu', 'hispanic_p', 'total_popu', 'median_hou', 'per_capita',\n",
      "       'built_age', 'less_highs', 'bachelor', 'totaleduca', 'male_und18',\n",
      "       'female_und', 'male65_66', 'male67_69', 'male70_74', 'male75_79',\n",
      "       'male80_84', 'male85_', 'fema_65_66', 'fema_67_69', 'fema70_74',\n",
      "       'fema75_79', 'fema80_84', 'fema85_', 'state', 'county', 'tract'],\n",
      "      dtype='object')\n"
     ]
    }
   ],
   "source": [
    "print(df.columns)"
   ]
  },
  {
   "cell_type": "code",
   "execution_count": null,
   "id": "b57a8b52-6f90-47a7-9675-82637e62810c",
   "metadata": {},
   "outputs": [],
   "source": []
  },
  {
   "cell_type": "code",
   "execution_count": 35,
   "id": "7f256976-4c0f-41c3-88e4-9c60b793fbbe",
   "metadata": {},
   "outputs": [
    {
     "name": "stdout",
     "output_type": "stream",
     "text": [
      "0      16495\n",
      "1      18531\n",
      "2      32183\n",
      "3      26835\n",
      "4      23496\n",
      "       ...  \n",
      "379    28052\n",
      "380    13556\n",
      "381    98619\n",
      "382    16646\n",
      "383    18873\n",
      "Name: per_capita, Length: 384, dtype: int64\n"
     ]
    }
   ],
   "source": [
    "# Access the 'Name' column\n",
    "print(df[\"per_capita\"])"
   ]
  },
  {
   "cell_type": "code",
   "execution_count": null,
   "id": "249cebb9-8ba3-45d6-8aa1-10165f134085",
   "metadata": {},
   "outputs": [],
   "source": []
  },
  {
   "cell_type": "code",
   "execution_count": 47,
   "id": "46ef5db4-1ea0-4a71-9247-c7bed89725e6",
   "metadata": {},
   "outputs": [
    {
     "name": "stdout",
     "output_type": "stream",
     "text": [
      "STATEFP                                                      42\n",
      "COUNTYFP                                                    101\n",
      "TRACTCE                                                   14500\n",
      "GEOID                                               42101014500\n",
      "NAME_x                                                    145.0\n",
      "NAMELSAD                                       Census Tract 145\n",
      "MTFCC                                                     G5020\n",
      "FUNCSTAT                                                      S\n",
      "ALAND                                                    321465\n",
      "AWATER                                                        0\n",
      "INTPTLAT                                              39.976072\n",
      "INTPTLON                                             -75.148419\n",
      "NAME_y        Census Tract 145, Philadelphia County, Pennsyl...\n",
      "GEO_ID                                     1400000US42101014500\n",
      "white_popu                                                  196\n",
      "non-hispan                                                   45\n",
      "black_popu                                                 1309\n",
      "asian_popu                                                   32\n",
      "hispanic_p                                                  331\n",
      "total_popu                                                 1694\n",
      "median_hou                                                18565\n",
      "per_capita                                                16495\n",
      "built_age                                                   684\n",
      "less_highs                                                  274\n",
      "bachelor                                                    148\n",
      "totaleduca                                                 1033\n",
      "male_und18                                                  323\n",
      "female_und                                                  167\n",
      "male65_66                                                    16\n",
      "male67_69                                                    18\n",
      "male70_74                                                    31\n",
      "male75_79                                                     6\n",
      "male80_84                                                     6\n",
      "male85_                                                      14\n",
      "fema_65_66                                                   25\n",
      "fema_67_69                                                   46\n",
      "fema70_74                                                    33\n",
      "fema75_79                                                     7\n",
      "fema80_84                                                    17\n",
      "fema85_                                                      28\n",
      "state                                                        42\n",
      "county                                                      101\n",
      "tract                                                     14500\n",
      "Name: 0, dtype: object\n",
      "   STATEFP  COUNTYFP  TRACTCE        GEOID  NAME_x          NAMELSAD  MTFCC  \\\n",
      "1       42       101    31200  42101031200   312.0  Census Tract 312  G5020   \n",
      "2       42       101    21800  42101021800   218.0  Census Tract 218  G5020   \n",
      "\n",
      "  FUNCSTAT    ALAND  AWATER  ...  male85_  fema_65_66 fema_67_69 fema70_74  \\\n",
      "1        S   429735       0  ...        6          42         63       202   \n",
      "2        S  1006008       0  ...       18           0         84        55   \n",
      "\n",
      "   fema75_79  fema80_84  fema85_  state  county  tract  \n",
      "1         48          0       11     42     101  31200  \n",
      "2         98         27       17     42     101  21800  \n",
      "\n",
      "[2 rows x 43 columns]\n"
     ]
    }
   ],
   "source": [
    "# Access the first row column\n",
    "print(df.iloc[0])\n",
    "\n",
    "# Access multiple rows by slicing\n",
    "print(df.iloc[1:3])"
   ]
  },
  {
   "cell_type": "code",
   "execution_count": null,
   "id": "2c3fe37c-87fd-45f1-a1fb-e5af651728da",
   "metadata": {},
   "outputs": [],
   "source": []
  },
  {
   "cell_type": "code",
   "execution_count": 48,
   "id": "bc9ce473-c11b-49b5-b283-4352557bf825",
   "metadata": {},
   "outputs": [
    {
     "name": "stdout",
     "output_type": "stream",
     "text": [
      "42\n"
     ]
    }
   ],
   "source": [
    "# Access the first row column\n",
    "\n",
    "print(df.iloc[0].iloc[0])\n"
   ]
  },
  {
   "cell_type": "code",
   "execution_count": null,
   "id": "2e3e74da-812c-401b-bb0c-b12ef2f5f84a",
   "metadata": {},
   "outputs": [],
   "source": []
  },
  {
   "cell_type": "markdown",
   "id": "77b89c06-f463-48a6-a37b-797645e2ee85",
   "metadata": {},
   "source": [
    "Do calculation and save a new csv file"
   ]
  },
  {
   "cell_type": "code",
   "execution_count": 49,
   "id": "5ffddba9-9a37-4bf9-a929-553b2b1945a0",
   "metadata": {},
   "outputs": [],
   "source": [
    "# convert the to k\n",
    "df[\"per_capita_k\"] = df[\"per_capita\"] /1000\n",
    "\n",
    "df.to_csv(\"data/updated_data.csv\", index=False)"
   ]
  },
  {
   "cell_type": "code",
   "execution_count": null,
   "id": "28830bd8-9ccb-42ef-bd7d-1c8d88d522a5",
   "metadata": {},
   "outputs": [],
   "source": []
  }
 ],
 "metadata": {
  "kernelspec": {
   "display_name": "Python 3 (ipykernel)",
   "language": "python",
   "name": "python3"
  },
  "language_info": {
   "codemirror_mode": {
    "name": "ipython",
    "version": 3
   },
   "file_extension": ".py",
   "mimetype": "text/x-python",
   "name": "python",
   "nbconvert_exporter": "python",
   "pygments_lexer": "ipython3",
   "version": "3.12.5"
  }
 },
 "nbformat": 4,
 "nbformat_minor": 5
}
